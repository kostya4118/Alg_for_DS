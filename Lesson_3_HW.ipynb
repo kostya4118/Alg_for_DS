{
 "cells": [
  {
   "cell_type": "markdown",
   "metadata": {
    "id": "6lkWSp5NLMbk"
   },
   "source": [
    "### Урок 3. Классификация. Логистическая регрессия."
   ]
  },
  {
   "cell_type": "code",
   "execution_count": 278,
   "metadata": {
    "id": "zhwkeWtb1O0w"
   },
   "outputs": [],
   "source": [
    "import numpy as np\n",
    "import matplotlib.pyplot as plt"
   ]
  },
  {
   "cell_type": "code",
   "execution_count": 279,
   "metadata": {
    "id": "FeKFn2yb1To4"
   },
   "outputs": [],
   "source": [
    "X = np.array([[1, 1, 1, 1, 1, 1, 1, 1, 1, 1],\n",
    "              [1, 1, 2, 5, 3, 0, 5, 10, 1, 2],\n",
    "              [500, 700, 750, 600, 1450, 800, 1500, 2000, 450, 1000],\n",
    "              [1, 1, 2, 1, 2,  1, 3, 3, 1, 2]], dtype = np.float64)\n",
    "y = np.array([0, 0, 1, 0, 1, 0, 1, 0, 1, 1], dtype = np.float64)"
   ]
  },
  {
   "cell_type": "code",
   "execution_count": 280,
   "metadata": {
    "colab": {
     "base_uri": "https://localhost:8080/",
     "height": 155
    },
    "id": "yXSj4nbxHsFd",
    "outputId": "8d102d54-94bf-4acc-d5b8-d60da152b953"
   },
   "outputs": [
    {
     "data": {
      "text/plain": [
       "array([[1.00e+00, 1.00e+00, 1.00e+00, 1.00e+00, 1.00e+00, 1.00e+00,\n",
       "        1.00e+00, 1.00e+00, 1.00e+00, 1.00e+00],\n",
       "       [1.00e+00, 1.00e+00, 2.00e+00, 5.00e+00, 3.00e+00, 0.00e+00,\n",
       "        5.00e+00, 1.00e+01, 1.00e+00, 2.00e+00],\n",
       "       [5.00e+02, 7.00e+02, 7.50e+02, 6.00e+02, 1.45e+03, 8.00e+02,\n",
       "        1.50e+03, 2.00e+03, 4.50e+02, 1.00e+03],\n",
       "       [1.00e+00, 1.00e+00, 2.00e+00, 1.00e+00, 2.00e+00, 1.00e+00,\n",
       "        3.00e+00, 3.00e+00, 1.00e+00, 2.00e+00]])"
      ]
     },
     "execution_count": 280,
     "metadata": {},
     "output_type": "execute_result"
    }
   ],
   "source": [
    "X"
   ]
  },
  {
   "cell_type": "code",
   "execution_count": 281,
   "metadata": {
    "colab": {
     "base_uri": "https://localhost:8080/",
     "height": 34
    },
    "id": "QU0A16vZHugZ",
    "outputId": "71d74b95-77f4-41a7-e339-c9e7b2004e4b"
   },
   "outputs": [
    {
     "data": {
      "text/plain": [
       "array([0., 0., 1., 0., 1., 0., 1., 0., 1., 1.])"
      ]
     },
     "execution_count": 281,
     "metadata": {},
     "output_type": "execute_result"
    }
   ],
   "source": [
    "y"
   ]
  },
  {
   "cell_type": "code",
   "execution_count": 282,
   "metadata": {
    "id": "M-aO1NTxOUfo"
   },
   "outputs": [],
   "source": [
    "def calc_std_feat(x):\n",
    "    res = (x - x.mean()) / x.std()\n",
    "    return res"
   ]
  },
  {
   "cell_type": "code",
   "execution_count": 283,
   "metadata": {
    "id": "D8EL0iGJOVpe"
   },
   "outputs": [],
   "source": [
    "X_st = X.copy()\n",
    "X_st[2, :] = calc_std_feat(X[2, :])"
   ]
  },
  {
   "cell_type": "code",
   "execution_count": 284,
   "metadata": {
    "colab": {
     "base_uri": "https://localhost:8080/",
     "height": 155
    },
    "id": "gviMxz7EOuI3",
    "outputId": "af9a2576-f4d7-41d7-e216-46e0a068cfad"
   },
   "outputs": [
    {
     "data": {
      "text/plain": [
       "array([[ 1.        ,  1.        ,  1.        ,  1.        ,  1.        ,\n",
       "         1.        ,  1.        ,  1.        ,  1.        ,  1.        ],\n",
       "       [ 1.        ,  1.        ,  2.        ,  5.        ,  3.        ,\n",
       "         0.        ,  5.        , 10.        ,  1.        ,  2.        ],\n",
       "       [-0.97958969, -0.56713087, -0.46401617, -0.77336028,  0.97958969,\n",
       "        -0.36090146,  1.08270439,  2.11385144, -1.08270439,  0.05155735],\n",
       "       [ 1.        ,  1.        ,  2.        ,  1.        ,  2.        ,\n",
       "         1.        ,  3.        ,  3.        ,  1.        ,  2.        ]])"
      ]
     },
     "execution_count": 284,
     "metadata": {},
     "output_type": "execute_result"
    }
   ],
   "source": [
    "X_st"
   ]
  },
  {
   "cell_type": "code",
   "execution_count": 285,
   "metadata": {
    "id": "qMR5pOA38dDw"
   },
   "outputs": [],
   "source": [
    "# def calc_logloss(y, y_pred):\n",
    "#     err = - np.mean(y * np.log(y_pred) + (1.0 - y) * np.log(1.0 - y_pred))\n",
    "#     err = np.sum(err)\n",
    "#     return err"
   ]
  },
  {
   "cell_type": "code",
   "execution_count": 286,
   "metadata": {},
   "outputs": [],
   "source": [
    "def calc_logloss(y, y_pred):\n",
    "    y_pred_mod = np.where(y_pred == 1, y_pred - 1e-09, np.where(y_pred == 0, y_pred + 1e-09, y_pred))\n",
    "    err = - np.mean(y * np.log(y_pred_mod) + (1.0 - y) * np.log(1.0 - y_pred_mod))\n",
    "    err = np.sum(err)\n",
    "    return err"
   ]
  },
  {
   "cell_type": "code",
   "execution_count": 287,
   "metadata": {
    "colab": {
     "base_uri": "https://localhost:8080/",
     "height": 34
    },
    "id": "R6zfOHMrBvnX",
    "outputId": "46df0625-963f-4401-da30-b5b42bcf1be7"
   },
   "outputs": [
    {
     "data": {
      "text/plain": [
       "0.10536051565782628"
      ]
     },
     "execution_count": 287,
     "metadata": {},
     "output_type": "execute_result"
    }
   ],
   "source": [
    "# Пример применения\n",
    "y1 = np.array([1, 0])\n",
    "y_pred1 = np.array([0.9, 0.1])\n",
    "calc_logloss(y1, y_pred1)"
   ]
  },
  {
   "cell_type": "code",
   "execution_count": 288,
   "metadata": {
    "id": "EEF9rWPNDnss"
   },
   "outputs": [],
   "source": [
    "def sigmoid(z):\n",
    "    res = 1 / (1 + np.exp(-z))\n",
    "    return res"
   ]
  },
  {
   "cell_type": "code",
   "execution_count": 289,
   "metadata": {
    "id": "_9tN8lBEEeXU"
   },
   "outputs": [],
   "source": [
    "z = np.linspace(-10, 10, 101)"
   ]
  },
  {
   "cell_type": "code",
   "execution_count": 290,
   "metadata": {
    "id": "nvIe3RpbEp4l"
   },
   "outputs": [],
   "source": [
    "probabilities = sigmoid(z)"
   ]
  },
  {
   "cell_type": "code",
   "execution_count": 291,
   "metadata": {
    "colab": {
     "base_uri": "https://localhost:8080/",
     "height": 283
    },
    "id": "jQsCfht0Et1V",
    "outputId": "0c11fcdd-1cf9-49db-aaa7-4fa520ff840a"
   },
   "outputs": [
    {
     "data": {
      "image/png": "[encoded data removed]",
      "text/plain": [
       "<Figure size 432x288 with 1 Axes>"
      ]
     },
     "metadata": {
      "needs_background": "light"
     },
     "output_type": "display_data"
    }
   ],
   "source": [
    "plt.plot(z, probabilities)\n",
    "plt.show()"
   ]
  },
  {
   "cell_type": "markdown",
   "metadata": {
    "id": "e6TH-mkPItb6"
   },
   "source": [
    "Logistic Regression"
   ]
  },
  {
   "cell_type": "code",
   "execution_count": 292,
   "metadata": {
    "id": "qtgUN3LW-UIq"
   },
   "outputs": [],
   "source": [
    "def eval_model(X, y, iterations, alpha=1e-4):\n",
    "    np.random.seed(42)\n",
    "    W = np.random.randn(X.shape[0])\n",
    "    n = X.shape[1]\n",
    "    for i in range(1, iterations+1):\n",
    "        z = np.dot(W, X)\n",
    "        y_pred = sigmoid(z)\n",
    "        err = calc_logloss(y, y_pred)\n",
    "        W -= alpha * (1/n * np.dot((y_pred - y), X.T))\n",
    "        if i % (iterations / 10) == 0:\n",
    "            print(i, W, err)\n",
    "    return W"
   ]
  },
  {
   "cell_type": "code",
   "execution_count": 293,
   "metadata": {
    "colab": {
     "base_uri": "https://localhost:8080/",
     "height": 190
    },
    "id": "oqX7loklBmYZ",
    "outputId": "f4849295-1f14-40d8-c8f2-d1b002e130c5"
   },
   "outputs": [
    {
     "name": "stdout",
     "output_type": "stream",
     "text": [
      "500 [ 0.47822106 -0.20918419  0.64605995  1.49531432] 1.0559639161585663\n",
      "1000 [ 0.46074241 -0.27647603  0.64395686  1.46891696] 0.945214871179169\n",
      "1500 [ 0.44435675 -0.33951515  0.64152026  1.44406912] 0.8478360281905125\n",
      "2000 [ 0.42913461 -0.39751872  0.63899625  1.42106251] 0.7651177745022372\n",
      "2500 [ 0.41513888 -0.44956784  0.63671032  1.40023024] 0.6981293270105478\n",
      "3000 [ 0.40240136 -0.49488241  0.63498247  1.38184975] 0.6468813805442176\n",
      "3500 [ 0.39088925 -0.53321212  0.63401986  1.36601535] 0.6097021563515638\n",
      "4000 [ 0.38049869 -0.56497213  0.63387116  1.35259671] 0.5836774145473647\n",
      "4500 [ 0.37108342 -0.59102182  0.63446603  1.3413119 ] 0.5657147376221167\n",
      "5000 [ 0.36249064 -0.61234585  0.63568321  1.33183158] 0.5532737788236778\n"
     ]
    }
   ],
   "source": [
    "W = eval_model(X_st, y, iterations=5000, alpha=1e-4)"
   ]
  },
  {
   "cell_type": "markdown",
   "metadata": {
    "id": "BZubH-6ULMb8"
   },
   "source": [
    "## Д/з"
   ]
  },
  {
   "cell_type": "markdown",
   "metadata": {
    "id": "G_2a2BxXLMb8"
   },
   "source": [
    "1. Измените функцию calc_logloss так, чтобы нули по возможности не попадали в np.log."
   ]
  },
  {
   "cell_type": "code",
   "execution_count": 294,
   "metadata": {},
   "outputs": [],
   "source": [
    "def calc_logloss_mod(y, y_pred):\n",
    "    y_pred_mod = np.where(y_pred == 1, y_pred - 1e-07, np.where(y_pred == 0, y_pred + 1e-07, y_pred))\n",
    "    err = - np.mean(y * np.log(y_pred_mod) + (1.0 - y) * np.log(1.0 - y_pred_mod))\n",
    "    err = np.sum(err)\n",
    "    return err"
   ]
  },
  {
   "cell_type": "markdown",
   "metadata": {
    "id": "G_2a2BxXLMb8"
   },
   "source": [
    "2. Подберите аргументы функции eval_model для логистической регрессии таким образом, чтобы log loss был минимальным."
   ]
  },
  {
   "cell_type": "code",
   "execution_count": 380,
   "metadata": {
    "id": "qtgUN3LW-UIq"
   },
   "outputs": [],
   "source": [
    "def eval_model(X, y, alpha=1e-4, tol=1e-4, max_iterations=10000):\n",
    "    np.random.seed(42)\n",
    "    W = np.random.randn(X.shape[0])\n",
    "    n = X.shape[1]\n",
    "    min_err = 999999999999\n",
    "    for i in range(1, max_iterations+1):\n",
    "        z = np.dot(W, X)\n",
    "        y_pred = sigmoid(z)\n",
    "        err = calc_logloss_mod(y, y_pred)\n",
    "        if np.abs(min_err - err) > tol:  \n",
    "            min_err = err\n",
    "        else:\n",
    "            W -= alpha * (1/n * np.dot((y_pred - y), X.T))\n",
    "            break\n",
    "        W -= alpha * (1/n * np.dot((y_pred - y), X.T))\n",
    "    return W, i, min_err"
   ]
  },
  {
   "cell_type": "code",
   "execution_count": 393,
   "metadata": {
    "scrolled": true
   },
   "outputs": [
    {
     "name": "stdout",
     "output_type": "stream",
     "text": [
      "Минимальное значение ошибки - 0.2317134155907108, при alpha - 1.0 и tol - 1e-05\n"
     ]
    }
   ],
   "source": [
    "alpha_list = [1-0.05*i for i in range(20)]\n",
    "tol_list = [10**i for i in range(-2, -7, -1)]\n",
    "\n",
    "min_err = 999999999999\n",
    "for tol in tol_list:\n",
    "    for alpha in alpha_list:\n",
    "#         print(alpha, tol, eval_model(X_st, y, alpha=alpha, tol=tol, max_iterations=10000))\n",
    "        W, i, err = eval_model(X_st, y, alpha=alpha, tol=tol, max_iterations=1000)\n",
    "        if min_err > err:\n",
    "            min_err = err\n",
    "            res_str = f'Минимальное значение ошибки - {min_err}, при alpha - {alpha} и tol - {tol}'\n",
    "print(res_str)"
   ]
  },
  {
   "cell_type": "markdown",
   "metadata": {},
   "source": [
    "Применим полученные опттимальные значения."
   ]
  },
  {
   "cell_type": "code",
   "execution_count": 394,
   "metadata": {
    "scrolled": true
   },
   "outputs": [],
   "source": [
    "W, i, min_err = eval_model(X_st, y, alpha = 1, tol = 1e-05)"
   ]
  },
  {
   "cell_type": "markdown",
   "metadata": {
    "id": "G_2a2BxXLMb8"
   },
   "source": [
    "3. Создайте функцию calc_pred_proba, возвращающую предсказанную вероятность класса 1 (на вход подаются W, который уже посчитан функцией eval_model и X, на выходе - массив y_pred_proba)."
   ]
  },
  {
   "cell_type": "code",
   "execution_count": 395,
   "metadata": {},
   "outputs": [],
   "source": [
    "def calc_pred_proba(w, x): \n",
    "    pred_proba = sigmoid(np.dot(w, x))\n",
    "    return pred_proba"
   ]
  },
  {
   "cell_type": "code",
   "execution_count": 396,
   "metadata": {},
   "outputs": [
    {
     "data": {
      "text/plain": [
       "array([3.83512898e-01, 4.27526106e-02, 9.99998932e-01, 5.74228331e-06,\n",
       "       8.76747585e-01, 1.35098051e-01, 9.99999912e-01, 3.99854993e-02,\n",
       "       5.45827947e-01, 9.99971266e-01])"
      ]
     },
     "execution_count": 396,
     "metadata": {},
     "output_type": "execute_result"
    }
   ],
   "source": [
    "y_pred_prob = calc_pred_proba(W, X_st)\n",
    "y_pred_prob"
   ]
  },
  {
   "cell_type": "markdown",
   "metadata": {
    "id": "G_2a2BxXLMb8"
   },
   "source": [
    "4. Создайте функцию calc_pred, возвращающую предсказанный класс (на вход подаются W, который уже посчитан функцией eval_model и X, на выходе - массив y_pred)."
   ]
  },
  {
   "cell_type": "code",
   "execution_count": 397,
   "metadata": {},
   "outputs": [],
   "source": [
    "def calc_pred(w, x, lim = 0.5):\n",
    "    pred_proba = sigmoid(np.dot(w, x))\n",
    "    pred = []\n",
    "    for el in pred_proba:\n",
    "        if el > lim:\n",
    "            pred.append(1)\n",
    "        else:\n",
    "            pred.append(0)\n",
    "    return np.array(pred)"
   ]
  },
  {
   "cell_type": "code",
   "execution_count": 398,
   "metadata": {},
   "outputs": [
    {
     "data": {
      "text/plain": [
       "array([0, 0, 1, 0, 1, 0, 1, 0, 1, 1])"
      ]
     },
     "execution_count": 398,
     "metadata": {},
     "output_type": "execute_result"
    }
   ],
   "source": [
    "y_pred=calc_pred(W, X_st)\n",
    "y_pred"
   ]
  },
  {
   "cell_type": "markdown",
   "metadata": {
    "id": "G_2a2BxXLMb8"
   },
   "source": [
    "5. Посчитайте Accuracy, матрицу ошибок, точность и полноту, а также F1 score."
   ]
  },
  {
   "cell_type": "code",
   "execution_count": 399,
   "metadata": {},
   "outputs": [],
   "source": [
    "import pandas as pd\n",
    "result = pd.DataFrame({\n",
    "    \"y_true\": y,\n",
    "    \"y_pred\": y_pred\n",
    "},dtype=int)\n",
    "# result\n",
    "\n",
    "tp = result.loc[(result['y_true'] == 1) & (result['y_pred'] == 1)].shape[0]\n",
    "tn = result.loc[(result['y_true'] == 0) & (result['y_pred'] == 0)].shape[0]\n",
    "fp = result.loc[(result['y_true'] == 0) & (result['y_pred'] == 1)].shape[0]\n",
    "fn = result.loc[(result['y_true'] == 1) & (result['y_pred'] == 0)].shape[0]"
   ]
  },
  {
   "cell_type": "code",
   "execution_count": 400,
   "metadata": {},
   "outputs": [
    {
     "name": "stdout",
     "output_type": "stream",
     "text": [
      "Accuracy: 1.0\n"
     ]
    }
   ],
   "source": [
    "my_accuracy = (tp + tn) / (tp + tn + fp + fn)\n",
    "print(f'Accuracy: {my_accuracy}')"
   ]
  },
  {
   "cell_type": "code",
   "execution_count": 401,
   "metadata": {},
   "outputs": [
    {
     "name": "stdout",
     "output_type": "stream",
     "text": [
      "Матрица ошибок:\n",
      "\n",
      "          y = 1  y = 0\n",
      "                      \n",
      "a(x) = 1      5      0\n",
      "a(x) = 0      0      5\n"
     ]
    }
   ],
   "source": [
    "my_confusion_matrix = pd.DataFrame({\n",
    "    \"\": ['a(x) = 1', 'a(x) = 0'],\n",
    "    \"y = 1\": [tp, fn],\n",
    "    \"y = 0\": [fp, tn]\n",
    "}).set_index('')\n",
    "print(f'Матрица ошибок:\\n\\n{my_confusion_matrix}')"
   ]
  },
  {
   "cell_type": "code",
   "execution_count": 402,
   "metadata": {},
   "outputs": [
    {
     "name": "stdout",
     "output_type": "stream",
     "text": [
      "Precision: 1.0\n"
     ]
    }
   ],
   "source": [
    "my_precision = tp / (tp + fp)\n",
    "print(f'Precision: {my_precision}')"
   ]
  },
  {
   "cell_type": "code",
   "execution_count": 403,
   "metadata": {},
   "outputs": [
    {
     "name": "stdout",
     "output_type": "stream",
     "text": [
      "Recall: 1.0\n"
     ]
    }
   ],
   "source": [
    "my_recall = tp / (tp + fn)\n",
    "print(f'Recall: {my_recall}')"
   ]
  },
  {
   "cell_type": "code",
   "execution_count": 404,
   "metadata": {},
   "outputs": [
    {
     "name": "stdout",
     "output_type": "stream",
     "text": [
      "F1: 1.0\n"
     ]
    }
   ],
   "source": [
    "my_f1 = (2 * my_precision * my_recall) / (my_precision + my_recall)\n",
    "print(f'F1: {my_f1}')"
   ]
  },
  {
   "cell_type": "markdown",
   "metadata": {
    "id": "G_2a2BxXLMb8"
   },
   "source": [
    "6. Могла ли модель переобучиться? Почему?"
   ]
  },
  {
   "cell_type": "markdown",
   "metadata": {},
   "source": [
    "Логистическая регрессия склонна к переобучению из-за использования сигмоиды для преобразования в вероятность предсказаний линейной модели. Поскольку сигмоида не имеет максимума и минимума, а только асимптоты в 0 и 1, градиентный спуск не может достичь оптимального решения, доводя веса до все более экстремальных значений, пытаясь достичь нулевых потерь. Поэтому в качестве способа регуляризации можно использовать раннюю остановку работы модели, а так же L1 и L2 регуляризацию."
   ]
  },
  {
   "cell_type": "code",
   "execution_count": null,
   "metadata": {},
   "outputs": [],
   "source": []
  }
 ],
 "metadata": {
  "colab": {
   "collapsed_sections": [],
   "name": "Lesson_3_script.ipynb",
   "provenance": []
  },
  "kernelspec": {
   "display_name": "Python 3 (ipykernel)",
   "language": "python",
   "name": "python3"
  },
  "language_info": {
   "codemirror_mode": {
    "name": "ipython",
    "version": 3
   },
   "file_extension": ".py",
   "mimetype": "text/x-python",
   "name": "python",
   "nbconvert_exporter": "python",
   "pygments_lexer": "ipython3",
   "version": "3.9.7"
  }
 },
 "nbformat": 4,
 "nbformat_minor": 1
}
